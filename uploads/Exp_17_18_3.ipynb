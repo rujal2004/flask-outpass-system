{
  "nbformat": 4,
  "nbformat_minor": 0,
  "metadata": {
    "colab": {
      "provenance": [],
      "toc_visible": true
    },
    "kernelspec": {
      "name": "python3",
      "display_name": "Python 3"
    },
    "language_info": {
      "name": "python"
    }
  },
  "cells": [
    {
      "cell_type": "markdown",
      "source": [
        "Experiment-17-18\n",
        "\n",
        "Write a function called draw_rectangle that takes a Canvas and a Rectangle as\n",
        "arguments and draws a representation of the Rectangle on the Canvas. 2. Add an\n",
        "attribute named color to your Rectangle objects and modify draw_rectangle so that it\n",
        "uses the color attribute as the fill color. 3. Write a function called draw_point that\n",
        "takes a Canvas and a Point as arguments and draws a representation of the Point on\n",
        "the Canvas. 4. Define a new class called Circle with appropriate attributes and\n",
        "instantiate a few Circle objects. Write a function called draw_circle that draws circles\n",
        "on the canvas. 5. Write a program that draws the national flag of the India. Hint: you\n",
        "can draw a polygon like this: points\n",
        "= [[-150,-100], [150, 100], [150, -100]] canvas.polygon(points,\n",
        "fill='saffron,white,green')"
      ],
      "metadata": {
        "id": "YOmzoTno0vAq"
      }
    },
    {
      "cell_type": "code",
      "source": [
        "import tkinter as tk\n",
        "import math\n",
        "\n",
        "\n",
        "class Circle:\n",
        "    def __init__(self, x, y, radius, color):\n",
        "        self.x = x\n",
        "        self.y = y\n",
        "        self.radius = radius\n",
        "        self.color = color\n",
        "\n",
        "def draw_rectangle(canvas, x, y, width, height, fill):\n",
        "    canvas.create_rectangle(x, y, x + width, y + height, fill=fill)\n",
        "\n",
        "def draw_point(canvas, x, y, fill):\n",
        "    canvas.create_oval(x - 2, y - 2, x + 2, y + 2, fill=fill)\n",
        "\n",
        "def draw_circle(canvas, circle):\n",
        "    canvas.create_oval(\n",
        "        circle.x - circle.radius,\n",
        "        circle.y - circle.radius,\n",
        "        circle.x + circle.radius,\n",
        "        circle.y + circle.radius,\n",
        "        fill=circle.color\n",
        "    )\n",
        "def draw_chakra(canvas, x, y, radius):\n",
        "\n",
        "    chakra_circle = Circle(x, y, radius, 'navy')\n",
        "    draw_circle(canvas, chakra_circle)\n",
        "\n",
        "def draw_indian_flag(canvas):\n",
        "    draw_rectangle(canvas, 0, 0, 300, 100, '#FF9933')\n",
        "    draw_rectangle(canvas, 0, 100, 300, 100, 'white')\n",
        "    draw_rectangle(canvas, 0, 200, 300, 100, 'green')\n",
        "\n",
        "\n",
        "    draw_chakra(canvas, 150, 150, 15)\n",
        "\n",
        "root = tk.Tk()\n",
        "root.title(\"Drawing Shapes\")\n",
        "canvas = tk.Canvas(root, width=300, height=300, bg='lightblue')\n",
        "canvas.pack()\n",
        "draw_rectangle(canvas, 10, 20, 100, 50, 'blue')\n",
        "draw_point(canvas, 15, 25, 'red')\n",
        "green_circle = Circle(30, 30, 20, 'green')\n",
        "draw_circle(canvas, green_circle)\n",
        "draw_indian_flag(canvas)\n",
        "root.mainloop()"
      ],
      "metadata": {
        "id": "Sp2tc_1pFUzi"
      },
      "execution_count": null,
      "outputs": []
    }
  ]
}